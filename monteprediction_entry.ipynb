{
  "nbformat": 4,
  "nbformat_minor": 0,
  "metadata": {
    "colab": {
      "provenance": [],
      "include_colab_link": true
    },
    "kernelspec": {
      "name": "python3",
      "display_name": "Python 3"
    },
    "language_info": {
      "name": "python"
    }
  },
  "cells": [
    {
      "cell_type": "markdown",
      "metadata": {
        "id": "view-in-github",
        "colab_type": "text"
      },
      "source": [
        "<a href=\"https://colab.research.google.com/github/microprediction/monteprediction_colab_examples/blob/main/monteprediction_entry.ipynb\" target=\"_parent\"><img src=\"https://colab.research.google.com/assets/colab-badge.svg\" alt=\"Open In Colab\"/></a>"
      ]
    },
    {
      "cell_type": "code",
      "execution_count": null,
      "metadata": {
        "id": "VJq2FeaS-DNa"
      },
      "outputs": [],
      "source": [
        "!pip install yfinance\n",
        "!pip install pandas\n",
        "!pip install scikit-learn\n",
        "!pip install scipy\n",
        "!pip install monteprediction\n",
        "\n",
        "\n",
        "\n"
      ]
    },
    {
      "cell_type": "markdown",
      "source": [
        "### Utilities\n",
        "Just run this. No need to modify."
      ],
      "metadata": {
        "id": "iAGssHpeBfyJ"
      }
    },
    {
      "cell_type": "code",
      "source": [
        "import yfinance as yf\n",
        "import pandas as pd\n",
        "from scipy.stats.qmc import MultivariateNormalQMC\n",
        "import numpy as np\n",
        "import json\n",
        "import sys\n",
        "import requests\n",
        "import pandas as pd\n",
        "from io import StringIO\n",
        "from datetime import datetime, timedelta\n",
        "import requests\n",
        "from io import StringIO\n",
        "import pandas as pd\n",
        "import time\n",
        "\n",
        "\n",
        "\n",
        "num_samples_per_chunk = int(1048576/8)\n",
        "num_chunks = 8\n",
        "num_samples = num_chunks*num_samples_per_chunk\n",
        "\n",
        "\n",
        "# List of SPDR ETFs symbols in alphabetical order\n",
        "spdr_etfs = ['XLB', 'XLC', 'XLE', 'XLF', 'XLI', 'XLK', 'XLP', 'XLRE', 'XLU', 'XLV', 'XLY']\n",
        "\n",
        "\n",
        "def get_last_wednesday():\n",
        "    today = datetime.now()\n",
        "    offset = (today.weekday() - 2) % 7\n",
        "    last_wednesday = today - timedelta(days=offset)\n",
        "    return last_wednesday.date()\n",
        "\n",
        "\n",
        "def send_in_chunks(df, email, num_chunks, max_retries=3):\n",
        "    chunks = np.array_split(df, num_chunks)\n",
        "    for chunk_no, chunk_df in enumerate(chunks):\n",
        "        for attempt in range(max_retries):\n",
        "            try:\n",
        "                # Metadata and URL setup\n",
        "                metadata = {'email': email, 'chunk': chunk_no, 'num_chunks': num_chunks}\n",
        "                URL = 'https://micromonte.pythonanywhere.com/upload'\n",
        "\n",
        "                # Convert DataFrame chunk to CSV string\n",
        "                csv_string = chunk_df.to_csv(index=False)\n",
        "\n",
        "                # Stream the CSV string to the server\n",
        "                with StringIO(csv_string) as f:\n",
        "                    response = requests.post(URL, params=metadata, data=f)\n",
        "\n",
        "                # Check response\n",
        "                if response.ok:\n",
        "                    print(f\"Chunk {chunk_no} of {num_chunks} sent successfully.\")\n",
        "                    break  # Break the retry loop if successful\n",
        "                else:\n",
        "                    print(f\"Failed to send chunk {chunk_no}, attempt {attempt + 1}. Response: {response.content}\")\n",
        "\n",
        "            except Exception as e:\n",
        "                print(f\"An error occurred: {e}\")\n",
        "\n",
        "            # Optional: wait before retrying\n",
        "            time.sleep(1)  # Wait for 1 second before retrying\n",
        "\n",
        "        else:\n",
        "            print(f\"Failed to send chunk {chunk_no} after {max_retries} attempts.\")\n",
        "\n"
      ],
      "metadata": {
        "id": "mx0ZUY32_CAI"
      },
      "execution_count": null,
      "outputs": []
    },
    {
      "cell_type": "markdown",
      "source": [
        "## Step 1. Create a dataframe with just over one million hypothetical weekly returns for each sector.   \n",
        "\n",
        "Do this however you like this is just an example. One column per sector."
      ],
      "metadata": {
        "id": "PWvz4C7vBVVQ"
      }
    },
    {
      "cell_type": "code",
      "source": [
        "# This example uses Quasi-Monte Carlo on the empirical covariance\n",
        "# There is absolutely no requirement you follow this pattern\n",
        "last_wednesday = get_last_wednesday()\n",
        "num_weeks = int(52+4*52*np.random.rand())\n",
        "start_date = last_wednesday - timedelta(weeks=num_weeks)\n",
        "data = yf.download(spdr_etfs, start=start_date, end=last_wednesday, interval=\"1wk\")\n",
        "weekly_prices = data['Adj Close']\n",
        "weekly_returns = weekly_prices.pct_change().dropna()\n",
        "from sklearn.covariance import EmpiricalCovariance         # See sklearn for many alternatives\n",
        "cov_matrix = EmpiricalCovariance().fit(weekly_returns).covariance_\n",
        "qmc_engine = MultivariateNormalQMC(mean=np.zeros(len(spdr_etfs)), cov=cov_matrix)\n",
        "samples = qmc_engine.random(num_samples)\n",
        "df = pd.DataFrame(columns=spdr_etfs, data = samples)\n",
        "print(df[:3])\n",
        "\n",
        "\n"
      ],
      "metadata": {
        "colab": {
          "base_uri": "https://localhost:8080/"
        },
        "id": "NZtSzrXdBL__",
        "outputId": "97378be7-36dd-4b91-ded6-85ef311acb53"
      },
      "execution_count": null,
      "outputs": [
        {
          "output_type": "stream",
          "name": "stderr",
          "text": [
            "[*********************100%%**********************]  11 of 11 completed\n"
          ]
        },
        {
          "output_type": "stream",
          "name": "stdout",
          "text": [
            "        XLB       XLC       XLE       XLF       XLI       XLK       XLP  \\\n",
            "0 -0.033980  0.007851 -0.127086 -0.033556 -0.021845  0.019712 -0.006874   \n",
            "1  0.025773  0.008576  0.027525  0.014640  0.010720  0.005156  0.025163   \n",
            "2  0.009357  0.010007 -0.000190  0.028045  0.007075 -0.013294 -0.014388   \n",
            "\n",
            "       XLRE       XLU       XLV       XLY  \n",
            "0  0.044473  0.002325  0.018386  0.022192  \n",
            "1  0.010593  0.047170  0.011911  0.005901  \n",
            "2 -0.012570 -0.013203 -0.012293 -0.027354  \n"
          ]
        }
      ]
    },
    {
      "cell_type": "markdown",
      "source": [
        "## Step 2. Submit the dataframe"
      ],
      "metadata": {
        "id": "UlqcDSD5DXNA"
      }
    },
    {
      "cell_type": "code",
      "source": [
        "YOUR_EMAIL = 'empirical@nowhere.com'  # Be sure to change this\n",
        "send_in_chunks(df, num_chunks=num_chunks, email=YOUR_EMAIL)"
      ],
      "metadata": {
        "colab": {
          "base_uri": "https://localhost:8080/"
        },
        "id": "1WwTq_rwDVB1",
        "outputId": "20274121-b650-41aa-f5e8-cdd995c12d16"
      },
      "execution_count": null,
      "outputs": [
        {
          "output_type": "stream",
          "name": "stdout",
          "text": [
            "Chunk 0 of 8 sent successfully.\n",
            "Chunk 1 of 8 sent successfully.\n",
            "Chunk 2 of 8 sent successfully.\n",
            "Chunk 3 of 8 sent successfully.\n",
            "Chunk 4 of 8 sent successfully.\n",
            "Chunk 5 of 8 sent successfully.\n",
            "Chunk 6 of 8 sent successfully.\n",
            "Chunk 7 of 8 sent successfully.\n"
          ]
        }
      ]
    },
    {
      "cell_type": "markdown",
      "source": [
        "### Just for interest...\n",
        "The paths will be interpreted as a mixture of gaussians.\n",
        "Your P/L will depend on your computed score versus that of everyone else."
      ],
      "metadata": {
        "id": "S38mSrPNDbsa"
      }
    },
    {
      "cell_type": "code",
      "source": [
        "def compute_score(samples, z, h=300.0):\n",
        "    distances = np.linalg.norm(samples - z, axis=1)\n",
        "    return np.sum(np.exp(-h * distances))\n",
        "\n",
        "def back_to_weekday(d):\n",
        "    if d.weekday() == 5:  # Saturday\n",
        "        end_date = d - timedelta(days=1)  # Previous day (Friday)\n",
        "    elif d.weekday() == 6:  # Sunday\n",
        "        end_date = d - timedelta(days=2)  # Two days before (Friday)\n",
        "    else:\n",
        "        end_date = d\n",
        "    return end_date\n",
        "\n",
        "\n",
        "def get_most_recent_truth():\n",
        "  # The most recent returns\n",
        "  end_date = back_to_weekday( datetime.now() - timedelta(days=1) )\n",
        "  start_date = end_date - timedelta(weeks=3)\n",
        "  recent_data = yf.download(spdr_etfs, start=start_date.date(), end=end_date.date(), interval=\"1wk\")\n",
        "  recent_weekly_prices = data['Adj Close']\n",
        "  return weekly_prices.pct_change().dropna().iloc[-1].values\n",
        "\n",
        "z = get_most_recent_truth()\n",
        "score = compute_score(samples=df.values,z=z)\n",
        "print(f\"Total Score: {score}\")\n"
      ],
      "metadata": {
        "colab": {
          "base_uri": "https://localhost:8080/"
        },
        "id": "tNFHQsO4FW8j",
        "outputId": "6597a4f7-b4cc-445b-b86c-7f06e9164815"
      },
      "execution_count": null,
      "outputs": [
        {
          "output_type": "stream",
          "name": "stderr",
          "text": [
            "[*********************100%%**********************]  11 of 11 completed\n"
          ]
        },
        {
          "output_type": "stream",
          "name": "stdout",
          "text": [
            "Total Score: 3.313742353178533\n"
          ]
        }
      ]
    }
  ]
}