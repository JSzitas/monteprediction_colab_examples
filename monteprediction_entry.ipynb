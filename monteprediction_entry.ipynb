{
  "nbformat": 4,
  "nbformat_minor": 0,
  "metadata": {
    "colab": {
      "provenance": [],
      "include_colab_link": true
    },
    "kernelspec": {
      "name": "python3",
      "display_name": "Python 3"
    },
    "language_info": {
      "name": "python"
    }
  },
  "cells": [
    {
      "cell_type": "markdown",
      "metadata": {
        "id": "view-in-github",
        "colab_type": "text"
      },
      "source": [
        "<a href=\"https://colab.research.google.com/github/microprediction/monteprediction_colab_examples/blob/main/monteprediction_entry.ipynb\" target=\"_parent\"><img src=\"https://colab.research.google.com/assets/colab-badge.svg\" alt=\"Open In Colab\"/></a>"
      ]
    },
    {
      "cell_type": "markdown",
      "source": [
        "### Imports\n",
        "Just run this. No need to modify."
      ],
      "metadata": {
        "id": "iAGssHpeBfyJ"
      }
    },
    {
      "cell_type": "code",
      "source": [
        "!pip install scikit-learn\n",
        "!pip install scipy\n",
        "!pip install --upgrade monteprediction\n",
        "\n",
        "import yfinance as yf\n",
        "import pandas as pd\n",
        "from scipy.stats.qmc import MultivariateNormalQMC\n",
        "import numpy as np\n",
        "import json\n",
        "import sys\n",
        "from datetime import datetime, timedelta\n",
        "import pandas as pd\n",
        "import time\n",
        "from monteprediction import SPDR_ETFS\n",
        "from monteprediction.calendarutil import get_last_wednesday\n",
        "from monteprediction.submission import send_in_chunks\n",
        "\n",
        "# Factory defaults\n",
        "num_samples_per_chunk = int(1048576/8)\n",
        "num_chunks = 8\n",
        "num_samples = num_chunks*num_samples_per_chunk"
      ],
      "metadata": {
        "id": "mx0ZUY32_CAI"
      },
      "execution_count": 11,
      "outputs": []
    },
    {
      "cell_type": "markdown",
      "source": [
        "## Step 1. Create a dataframe with just over one million hypothetical weekly returns for each sector.   \n",
        "\n",
        "Do this however you like this is just an example. One column per sector."
      ],
      "metadata": {
        "id": "PWvz4C7vBVVQ"
      }
    },
    {
      "cell_type": "code",
      "source": [
        "# This example uses Quasi-Monte Carlo on the empirical covariance\n",
        "# There is absolutely no requirement you follow this pattern\n",
        "\n",
        "last_wednesday = get_last_wednesday()\n",
        "num_weeks = int(52+4*52*np.random.rand())\n",
        "start_date = last_wednesday - timedelta(weeks=num_weeks)\n",
        "data = yf.download(SPDR_ETFS, start=start_date, end=last_wednesday, interval=\"1wk\")\n",
        "weekly_prices = data['Adj Close']\n",
        "weekly_returns = weekly_prices.pct_change().dropna()\n",
        "from sklearn.covariance import EmpiricalCovariance         # See sklearn for many alternatives\n",
        "cov_matrix = EmpiricalCovariance().fit(weekly_returns).covariance_\n",
        "qmc_engine = MultivariateNormalQMC(mean=np.zeros(len(SPDR_ETFS)), cov=cov_matrix)\n",
        "samples = qmc_engine.random(num_samples)\n",
        "df = pd.DataFrame(columns=SPDR_ETFS, data = samples)\n",
        "print(df[:3])\n",
        "\n",
        "# Verify submission\n",
        "assert len(df.index)==num_samples,f'Expecting exactly {num_samples} samples'\n",
        "assert list(df.columns)==SPDR_ETFS,'Columns should match SPDR_ETFS in order'\n"
      ],
      "metadata": {
        "colab": {
          "base_uri": "https://localhost:8080/"
        },
        "id": "NZtSzrXdBL__",
        "outputId": "2848ba53-234a-4211-e7e3-590c4a0298b0"
      },
      "execution_count": 14,
      "outputs": [
        {
          "output_type": "stream",
          "name": "stderr",
          "text": [
            "[*********************100%%**********************]  11 of 11 completed\n"
          ]
        },
        {
          "output_type": "stream",
          "name": "stdout",
          "text": [
            "        XLB       XLC       XLE       XLF       XLI       XLK       XLP  \\\n",
            "0  0.028453  0.004129  0.066391  0.032033  0.015521 -0.002501  0.011955   \n",
            "1 -0.020548 -0.012266 -0.063999 -0.054679 -0.027622  0.005228 -0.014539   \n",
            "2 -0.007326 -0.016351 -0.000677  0.014795  0.015111  0.003505  0.032404   \n",
            "\n",
            "       XLRE       XLU       XLV       XLY  \n",
            "0  0.038596  0.006206  0.008662  0.020514  \n",
            "1 -0.017256 -0.016046 -0.010144 -0.026960  \n",
            "2 -0.004032  0.034872  0.023066 -0.010453  \n"
          ]
        }
      ]
    },
    {
      "cell_type": "markdown",
      "source": [
        "## Step 2. Submit the dataframe"
      ],
      "metadata": {
        "id": "UlqcDSD5DXNA"
      }
    },
    {
      "cell_type": "code",
      "source": [
        "YOUR_EMAIL = 'monteprediction_entry@monteprediction.com'  # Be sure to change this\n",
        "send_in_chunks(df, num_chunks=num_chunks, email=YOUR_EMAIL)"
      ],
      "metadata": {
        "colab": {
          "base_uri": "https://localhost:8080/"
        },
        "id": "1WwTq_rwDVB1",
        "outputId": "f8e78d2b-d8a0-428c-92e8-4acb95f80d5b"
      },
      "execution_count": 15,
      "outputs": [
        {
          "output_type": "stream",
          "name": "stdout",
          "text": [
            "Chunk 0 of 8 sent successfully.\n",
            "Chunk 1 of 8 sent successfully.\n",
            "Chunk 2 of 8 sent successfully.\n",
            "Chunk 3 of 8 sent successfully.\n",
            "Chunk 4 of 8 sent successfully.\n",
            "Chunk 5 of 8 sent successfully.\n",
            "Chunk 6 of 8 sent successfully.\n",
            "Chunk 7 of 8 sent successfully.\n"
          ]
        }
      ]
    },
    {
      "cell_type": "markdown",
      "source": [
        "### Just for interest...\n",
        "Here's how the reward system works. Your samples $\\{x_{ik}\\}_{k=0}^{n-1}$ are used to imply a prediction density\n",
        "\n",
        "$$\\rho_i(z) = \\frac{1}{n} \\sum_{k=0}^{n-1} \\exp(-a \\|x_{ik}-z \\|_2) $$\n",
        "\n",
        "We don't need to worry about the normalizing constant. $a$ is a system parameter set at approximately $a=300$.\n",
        "\n",
        "Let us suppose you have an initial wealth $W_i$. A system parameter $b_i=0.1$ is the fraction of your total wealth you deploy. Your investment is therefore $Q_i = b_i W_i$ and similarly for other participants yielding a total investment of $Q = \\sum_i Q_i$. This pot will be split when the truth $z$ is revealed.\n",
        "\n",
        "To this end your 'mass' is $m_i(z) = b_i w_i \\rho(i)$ and the total mass is $m(z) = \\sum_i m_i(z)$. Your payout is your density-share of total investment, namely the amount $Q \\frac{m_i(z)}{m(z)}$. Your net profit is $\\delta_i(z) = Q \\frac{m_i(z)}{M(z)} - b_i w_i$.  \n",
        "\n",
        "\n"
      ],
      "metadata": {
        "id": "S38mSrPNDbsa"
      }
    },
    {
      "cell_type": "code",
      "source": [
        "# The 'score\" is your density\n",
        "#    distances = np.linalg.norm(samples - z, axis=1)\n",
        "#    score = np.sum(np.exp(-h * distances))\n",
        "\n",
        "from monteprediction.truth import get_most_recent_truth\n",
        "from monteprediction.scoring import compute_score\n",
        "z = get_most_recent_truth()\n",
        "score = compute_score(samples=df.values,z=z)\n",
        "print(f\"Total Score: {score}\")\n"
      ],
      "metadata": {
        "colab": {
          "base_uri": "https://localhost:8080/"
        },
        "id": "tNFHQsO4FW8j",
        "outputId": "ffeaa83d-cb67-40c9-b62b-45133d3d06cc"
      },
      "execution_count": 16,
      "outputs": [
        {
          "output_type": "stream",
          "name": "stderr",
          "text": [
            "[*********************100%%**********************]  11 of 11 completed\n"
          ]
        },
        {
          "output_type": "stream",
          "name": "stdout",
          "text": [
            "Total Score: 0.06990740503342224\n"
          ]
        }
      ]
    }
  ]
}